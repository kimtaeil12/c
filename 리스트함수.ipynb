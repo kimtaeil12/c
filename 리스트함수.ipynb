{
  "nbformat": 4,
  "nbformat_minor": 0,
  "metadata": {
    "colab": {
      "provenance": [],
      "authorship_tag": "ABX9TyPSiS+GeTIsGq++dlSPYWeW",
      "include_colab_link": true
    },
    "kernelspec": {
      "name": "python3",
      "display_name": "Python 3"
    },
    "language_info": {
      "name": "python"
    }
  },
  "cells": [
    {
      "cell_type": "markdown",
      "metadata": {
        "id": "view-in-github",
        "colab_type": "text"
      },
      "source": [
        "<a href=\"https://colab.research.google.com/github/kimtaeil12/c/blob/main/%EB%A6%AC%EC%8A%A4%ED%8A%B8%ED%95%A8%EC%88%98.ipynb\" target=\"_parent\"><img src=\"https://colab.research.google.com/assets/colab-badge.svg\" alt=\"Open In Colab\"/></a>"
      ]
    },
    {
      "cell_type": "code",
      "source": [
        "# List\n",
        "# 순서가 중요\n",
        "\n",
        "station_itx=[\"용산\",\"옥수\",\"왕십리\",\"청량리\",\"상봉\",\"퇴계원\",\"사릉\",\"평내호평\",\"마석\",\"청평\"]\n",
        "print(station_itx[0])"
      ],
      "metadata": {
        "colab": {
          "base_uri": "https://localhost:8080/"
        },
        "id": "7rVrl-NIQME_",
        "outputId": "eb2b500a-31fe-4483-daf8-ba447153ea18"
      },
      "execution_count": 9,
      "outputs": [
        {
          "output_type": "stream",
          "name": "stdout",
          "text": [
            "용산\n"
          ]
        }
      ]
    },
    {
      "cell_type": "code",
      "source": [
        "# 리스트에 추가할때 .append( ) 함수 사용 마지막에 추가\n",
        "station_itx.append(\"홍천\")\n",
        "print(station_itx[-1])"
      ],
      "metadata": {
        "colab": {
          "base_uri": "https://localhost:8080/"
        },
        "id": "jsSSaDvbRASH",
        "outputId": "b04562ce-250e-48f0-a6f6-1cdd86ac73c0"
      },
      "execution_count": 10,
      "outputs": [
        {
          "output_type": "stream",
          "name": "stdout",
          "text": [
            "홍천\n"
          ]
        }
      ]
    },
    {
      "cell_type": "code",
      "source": [
        "# 리스트에 다양한 항목을 추가할때 .extend( ) 함수 사용\n",
        "station_itx.extend([\"홍천\",\"인제\",\"양구\",\"화천\"])\n",
        "print(station_itx)"
      ],
      "metadata": {
        "colab": {
          "base_uri": "https://localhost:8080/"
        },
        "id": "CbKXNr_fRtps",
        "outputId": "2eb97100-2ac7-4856-ec91-b7224e6ad286"
      },
      "execution_count": 11,
      "outputs": [
        {
          "output_type": "stream",
          "name": "stdout",
          "text": [
            "['용산', '옥수', '왕십리', '청량리', '상봉', '퇴계원', '사릉', '평내호평', '마석', '청평', '홍천', '홍천', '인제', '양구', '화천']\n"
          ]
        }
      ]
    },
    {
      "cell_type": "code",
      "source": [],
      "metadata": {
        "id": "js1ydVUmSBJE"
      },
      "execution_count": null,
      "outputs": []
    }
  ]
}