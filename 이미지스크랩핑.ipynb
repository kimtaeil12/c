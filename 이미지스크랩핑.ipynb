{
  "nbformat": 4,
  "nbformat_minor": 0,
  "metadata": {
    "colab": {
      "provenance": [],
      "toc_visible": true,
      "authorship_tag": "ABX9TyNZeUcsjsj3aeilnDn7Hlcx",
      "include_colab_link": true
    },
    "kernelspec": {
      "name": "python3",
      "display_name": "Python 3"
    },
    "language_info": {
      "name": "python"
    }
  },
  "cells": [
    {
      "cell_type": "markdown",
      "metadata": {
        "id": "view-in-github",
        "colab_type": "text"
      },
      "source": [
        "<a href=\"https://colab.research.google.com/github/kimtaeil12/c/blob/main/%EC%9D%B4%EB%AF%B8%EC%A7%80%EC%8A%A4%ED%81%AC%EB%9E%A9%ED%95%91.ipynb\" target=\"_parent\"><img src=\"https://colab.research.google.com/assets/colab-badge.svg\" alt=\"Open In Colab\"/></a>"
      ]
    },
    {
      "cell_type": "code",
      "execution_count": null,
      "metadata": {
        "colab": {
          "base_uri": "https://localhost:8080/"
        },
        "id": "nY-qtf5qD58o",
        "outputId": "baf02102-9fb7-42a0-8d70-83040895e6ee"
      },
      "outputs": [
        {
          "output_type": "stream",
          "name": "stdout",
          "text": [
            "Collecting bing-image-downloader\n",
            "  Downloading bing_image_downloader-1.1.2-py3-none-any.whl (5.9 kB)\n",
            "Installing collected packages: bing-image-downloader\n",
            "Successfully installed bing-image-downloader-1.1.2\n"
          ]
        }
      ],
      "source": [
        "!pip install bing-image-downloader\n"
      ]
    },
    {
      "cell_type": "code",
      "source": [
        "from bing_image_downloader import downloader # bing_image_downloader 모듈에서 downloader를 가져옴\n",
        "\n",
        "from pathlib import Path # pathlib 모듈에서 Path를 가져옴\n",
        "\n",
        "\n",
        "def download_images(keyword, num_images, file_name):\n",
        "\n",
        "    output_directory = \"images\" # 이미지를 저장할 폴더 이름\n",
        "\n",
        "    downloader.download(keyword, limit=num_images, output_dir=output_directory, adult_filter_off=True, force_replace=False, timeout=60) # 이미지 다운로드\n",
        "\n",
        "    root = Path().cwd() / output_directory # 이미지 저장 폴더의 경로\n",
        "\n",
        "    downloaded_files = list(root.glob(\"*.*\")) # 폴더 내 모든 파일 가져오기\n",
        "\n",
        "    for i, file in enumerate(downloaded_files): # 다운로드된 각 파일에 대해 반복\n",
        "\n",
        "        extension = file.suffix # 파일 확장자\n",
        "\n",
        "        new_file_name = f\"{file_name}{i+1}{extension}\" # 새로운 파일 이름\n",
        "\n",
        "        new_file_path = root / new_file_name # 새로운 파일 경로\n",
        "\n",
        "        file.rename(new_file_path) # 파일 이름 변경\n",
        "\n",
        "\n",
        "# 사용 예시\n",
        "\n",
        "keyword = \"양말사진\" # 이미지 검색 키워드\n",
        "\n",
        "num_images = 10 # 다운로드할 이미지 수\n",
        "\n",
        "file_name = \"양말\" # 파일 이름\n",
        "\n",
        "download_images(keyword, num_images, file_name) # 이미지 다운로드"
      ],
      "metadata": {
        "colab": {
          "base_uri": "https://localhost:8080/"
        },
        "id": "wNkGq5NyEFAC",
        "outputId": "ecf6a55d-18f6-4a3e-af5a-e26e8a1f34b2"
      },
      "execution_count": 10,
      "outputs": [
        {
          "output_type": "stream",
          "name": "stdout",
          "text": [
            "[%] Downloading Images to /content/images/양말사진\n",
            "\n",
            "\n",
            "[!!]Indexing page: 1\n",
            "\n",
            "[%] Indexed 10 Images on Page 1.\n",
            "\n",
            "===============================================\n",
            "\n",
            "[%] Downloading Image #1 from https://i.pinimg.com/originals/1a/b4/03/1ab403e361dcad6e0490fe6f079509b4.jpg\n",
            "[%] File Downloaded !\n",
            "\n",
            "[%] Downloading Image #2 from https://jhealthfile.joins.com/photo/2020/11/24/1343ea42a6ad2.jpg\n",
            "[%] File Downloaded !\n",
            "\n",
            "[%] Downloading Image #3 from https://1.bp.blogspot.com/-4VnCWeTQ9g4/WJGU5rB8LVI/AAAAAAAC3YI/EEpHfqdIQUgqGmzpFu2jS1WongLl5KysACLcB/s1600/%25EC%2596%2591%25EB%25A7%2590%25EA%25BF%2588.jpg\n",
            "[%] File Downloaded !\n",
            "\n",
            "[%] Downloading Image #4 from http://image.auction.co.kr/itemimage/17/b2/6f/17b26f5c15.jpg\n",
            "[%] File Downloaded !\n",
            "\n",
            "[%] Downloading Image #5 from https://image.aladin.co.kr/product/17328/54/cover500/g492439111_1.jpg\n",
            "[%] File Downloaded !\n",
            "\n",
            "[%] Downloading Image #6 from https://footsell.com/g2/data/file/m34/1533014919_EULSZGud_Screenshot_20180731-142332_Google.jpg\n",
            "[%] File Downloaded !\n",
            "\n",
            "[%] Downloading Image #7 from https://www.costco.co.kr/medias/sys_master/images/he0/hf7/99945972531230.jpg\n",
            "[!] Issue getting: https://www.costco.co.kr/medias/sys_master/images/he0/hf7/99945972531230.jpg\n",
            "[!] Error:: The read operation timed out\n",
            "[%] Downloading Image #7 from https://www.costco.co.kr/medias/sys_master/images/h4f/h5c/66311801569310.jpg\n",
            "[!] Issue getting: https://www.costco.co.kr/medias/sys_master/images/h4f/h5c/66311801569310.jpg\n",
            "[!] Error:: The read operation timed out\n",
            "[%] Downloading Image #7 from https://media.istockphoto.com/id/1324849113/ko/사진/흰색-배경에-흰색-면-양말.jpg?s=612x612&amp;w=0&amp;k=20&amp;c=mUr3gv8Kc9YkcgV5XLys8nmw_vtnVG-kAqs19rxGde8=\n",
            "[!] Issue getting: https://media.istockphoto.com/id/1324849113/ko/사진/흰색-배경에-흰색-면-양말.jpg?s=612x612&amp;w=0&amp;k=20&amp;c=mUr3gv8Kc9YkcgV5XLys8nmw_vtnVG-kAqs19rxGde8=\n",
            "[!] Error:: 'ascii' codec can't encode characters in position 22-23: ordinal not in range(128)\n",
            "[%] Downloading Image #7 from https://image.chosun.com/sitedata/image/201709/19/2017091901844_0.jpg\n",
            "[%] File Downloaded !\n",
            "\n",
            "\n",
            "\n",
            "[!!]Indexing page: 2\n",
            "\n",
            "[%] Indexed 35 Images on Page 2.\n",
            "\n",
            "===============================================\n",
            "\n",
            "[%] Downloading Image #8 from https://washenjoy.co.kr/wp-content/uploads/2019/03/흰양말세탁방법6.jpg\n",
            "[!] Issue getting: https://washenjoy.co.kr/wp-content/uploads/2019/03/흰양말세탁방법6.jpg\n",
            "[!] Error:: 'ascii' codec can't encode characters in position 32-38: ordinal not in range(128)\n",
            "[%] Downloading Image #8 from https://img021.feelway.com/goods_image/fpho_4492_bd12pd4492692734ed1/GUCCI_14S_2020_구찌_650142_디즈니_도널드덕_양말_삭스_로고_4_1.jpg\n",
            "[!] Issue getting: https://img021.feelway.com/goods_image/fpho_4492_bd12pd4492692734ed1/GUCCI_14S_2020_구찌_650142_디즈니_도널드덕_양말_삭스_로고_4_1.jpg\n",
            "[!] Error:: 'ascii' codec can't encode characters in position 62-63: ordinal not in range(128)\n",
            "[%] Downloading Image #8 from https://png.pngtree.com/thumb_back/fh260/background/20210917/pngtree-socks-photography-image_895034.jpg\n",
            "[%] File Downloaded !\n",
            "\n",
            "[%] Downloading Image #9 from http://blogfiles.naver.net/20150909_21/cooingkids92_1441738613067qL4fq_JPEG/%C0%AF%B4%CFũ%BB轺.jpg\n",
            "[!] Issue getting: http://blogfiles.naver.net/20150909_21/cooingkids92_1441738613067qL4fq_JPEG/%C0%AF%B4%CFũ%BB轺.jpg\n",
            "[!] Error:: 'ascii' codec can't encode character '\\u0169' in position 66: ordinal not in range(128)\n",
            "[%] Downloading Image #9 from http://img.mbn.co.kr/filewww/news/2016/03/29/145923783456fa33cab1656.jpg\n",
            "[%] File Downloaded !\n",
            "\n",
            "[%] Downloading Image #10 from https://media.istockphoto.com/photos/selection-of-various-socks-picture-id503177775\n",
            "[%] File Downloaded !\n",
            "\n",
            "\n",
            "\n",
            "[%] Done. Downloaded 10 images.\n"
          ]
        }
      ]
    },
    {
      "cell_type": "code",
      "source": [
        "import shutil\n",
        "\n",
        "def compress_folder(folder_path, output_path):\n",
        "\n",
        "    shutil.make_archive(output_path, 'zip', folder_path)\n",
        "# 이미지 저장 폴더 압축\n",
        "\n",
        "folder_path = \"images\"\n",
        "\n",
        "output_path = \"images\"\n",
        "\n",
        "compress_folder(folder_path, output_path)"
      ],
      "metadata": {
        "id": "cnLVkkYdQULd"
      },
      "execution_count": 14,
      "outputs": []
    }
  ]
}