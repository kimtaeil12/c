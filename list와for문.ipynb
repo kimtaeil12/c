{
  "nbformat": 4,
  "nbformat_minor": 0,
  "metadata": {
    "colab": {
      "provenance": [],
      "authorship_tag": "ABX9TyOXI5O0LzD44IbUUJg96uJl",
      "include_colab_link": true
    },
    "kernelspec": {
      "name": "python3",
      "display_name": "Python 3"
    },
    "language_info": {
      "name": "python"
    }
  },
  "cells": [
    {
      "cell_type": "markdown",
      "metadata": {
        "id": "view-in-github",
        "colab_type": "text"
      },
      "source": [
        "<a href=\"https://colab.research.google.com/github/kimtaeil12/c/blob/main/list%EC%99%80for%EB%AC%B8.ipynb\" target=\"_parent\"><img src=\"https://colab.research.google.com/assets/colab-badge.svg\" alt=\"Open In Colab\"/></a>"
      ]
    },
    {
      "cell_type": "code",
      "source": [
        "student_heights = input(\"학생들 키 리스트를 입력하세요! 입력시 띄어쓰기(스페이스키)해서 값을 구분하세요\" ).split()\n",
        "# 우리반 학생의 키 리스트 = [ 180, 154, 165, 173, 180, 169, 146 ]\n",
        "\n",
        "student_num = len(student_heights)\n",
        "print(student_num)\n",
        "\n",
        "for n in range(0, len(student_heights)):\n",
        "  student_heights[n] = int(student_heights[n])\n",
        "# len() 함수는 문자열의 길이를 반환하기도 하지만 len(\"abc\") --> 3\n",
        "# len() 함수는 리스트에 들어있는 값의 개수를 알려준다.\n",
        "\n",
        "height_avg = sum(student_heights)/student_num\n",
        "# 모든사람의 키를 더하고 학생수로 나눈다.\n",
        "\n",
        "print(round(height_avg))\n",
        "#정수를 반올림해서 평균을 구한다"
      ],
      "metadata": {
        "colab": {
          "base_uri": "https://localhost:8080/"
        },
        "id": "xuIt4Sss2R1c",
        "outputId": "350449ec-8884-4e1b-c942-3a475c7d57e9"
      },
      "execution_count": 6,
      "outputs": [
        {
          "output_type": "stream",
          "name": "stdout",
          "text": [
            "학생들 키 리스트를 입력하세요! 입력시 띄어쓰기(스페이스키)해서 값을 구분하세요180 154 165 173 180 169 146\n",
            "7\n",
            "167\n"
          ]
        }
      ]
    },
    {
      "cell_type": "code",
      "source": [
        "student_heights = input(\"학생들 키 리스트를 입력하세요! 입력시 띄어쓰기(스페이스키)해서 값을 구분하세요\" ).split()\n",
        "# 우리반 학생의 키 리스트 = [ 180, 154, 165, 173, 180, 169, 146 ]\n",
        "\n",
        "for n in range(0, len(student_heights)):\n",
        "  student_heights[n] = int(student_heights[n])\n",
        "print(student_heights)\n",
        "\n",
        "#--- for문 활용해서 평균 구하기\n",
        "\n",
        "total_height = 0\n",
        "for height in student_heights:\n",
        "#total_height = total_height + height\n",
        "  total_height += height\n",
        "print(total_height)\n",
        "\n",
        "num_of_students = len(student_heights)\n",
        "height_avg = round(total_height/num_of_students)\n",
        "print(height_avg)\n"
      ],
      "metadata": {
        "colab": {
          "base_uri": "https://localhost:8080/"
        },
        "id": "0ltfIL7A2rw0",
        "outputId": "742fdd2b-83dd-48b6-fe80-c5b46f7873cb"
      },
      "execution_count": 7,
      "outputs": [
        {
          "output_type": "stream",
          "name": "stdout",
          "text": [
            "학생들 키 리스트를 입력하세요! 입력시 띄어쓰기(스페이스키)해서 값을 구분하세요180 154 165 173 180 169 146\n",
            "[180, 154, 165, 173, 180, 169, 146]\n",
            "1167\n",
            "167\n"
          ]
        }
      ]
    },
    {
      "cell_type": "code",
      "source": [
        "# 학생들의 점수 중 가장 높은 점수를 구해보자\n",
        "\n",
        "student_scores = input(\"점수 리스트를 입력한다(점수는 스페이스로 구분한다): \").split()\n",
        "# student_score = [78, 65, 89, 86, 55, 91, 64, 89]\n",
        "\n",
        "for n in range(0, len(student_scores)):\n",
        "  student_scores[n] = int(student_scores[n])\n",
        "print(student_scores)\n",
        "\n",
        "print(max(student_scores))"
      ],
      "metadata": {
        "colab": {
          "base_uri": "https://localhost:8080/"
        },
        "id": "91U4jcPw2etc",
        "outputId": "8739fbbd-829d-4f65-9f0a-e410895a9c3b"
      },
      "execution_count": 8,
      "outputs": [
        {
          "output_type": "stream",
          "name": "stdout",
          "text": [
            "점수 리스트를 입력한다(점수는 스페이스로 구분한다): 78 65 89 86 55 91 64 89\n",
            "[78, 65, 89, 86, 55, 91, 64, 89]\n",
            "91\n"
          ]
        }
      ]
    },
    {
      "cell_type": "code",
      "source": [
        "#for 반복문과 range함수\n",
        "for number in range(1,11,3):\n",
        "  print(number)"
      ],
      "metadata": {
        "colab": {
          "base_uri": "https://localhost:8080/"
        },
        "id": "Kmku2fyr42Lr",
        "outputId": "3b39134e-22bf-4807-fbc7-f141f736b407"
      },
      "execution_count": 11,
      "outputs": [
        {
          "output_type": "stream",
          "name": "stdout",
          "text": [
            "1\n",
            "4\n",
            "7\n",
            "10\n"
          ]
        }
      ]
    },
    {
      "cell_type": "code",
      "source": [
        "  #1~100더하기\n",
        "  total = 0\n",
        "  for number in range(1,101):\n",
        "    total += number\n",
        "    print(total)"
      ],
      "metadata": {
        "id": "JQxI8r0j6pTi"
      },
      "execution_count": null,
      "outputs": []
    },
    {
      "cell_type": "code",
      "source": [
        "#1~100까지의 모든 짝수의 합를 구하기\n",
        "#2+4+6+8+....+98+100\n",
        "\n",
        "total = 0\n",
        "for number in range(2,101,2):\n",
        "  total += number\n",
        "  print(total)\n",
        "  #2,4,6,8 ..."
      ],
      "metadata": {
        "id": "cAp_7B6L6zo5"
      },
      "execution_count": null,
      "outputs": []
    },
    {
      "cell_type": "code",
      "source": [
        "# 1~100까지의 모든 짝수의 합계를 구하기\n",
        "# 2 + 4 + 6 + 8 + 10 ... + 98 + 100\n",
        "\n",
        "total = 0\n",
        "\n",
        "for number in range(1, 101):\n",
        "  if number % 2 == 0:\n",
        "    total += number\n",
        "\n",
        "print(total)\n",
        "# 2, 4, 6, 8 ...\n"
      ],
      "metadata": {
        "id": "1o8NUuhi7V4s"
      },
      "execution_count": null,
      "outputs": []
    },
    {
      "cell_type": "code",
      "source": [
        "#fizzbuzz게임\n",
        "\n",
        "for number in range(1,101):\n",
        "  if number %3 == 0 and number %5 == 0:\n",
        "    print(\"피지버즈\")\n",
        "  elif number %5 == 0:\n",
        "    print(\"피지\")\n",
        "  elif number %3 == 0:\n",
        "    print(\"버즈\")\n",
        "  else:\n",
        "    print(number)\n"
      ],
      "metadata": {
        "id": "G-RVmGvZ8YWw"
      },
      "execution_count": null,
      "outputs": []
    },
    {
      "cell_type": "code",
      "source": [],
      "metadata": {
        "id": "uF56MBiJ9FOC"
      },
      "execution_count": null,
      "outputs": []
    }
  ]
}