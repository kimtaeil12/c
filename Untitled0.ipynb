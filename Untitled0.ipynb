{
  "nbformat": 4,
  "nbformat_minor": 0,
  "metadata": {
    "colab": {
      "provenance": [],
      "authorship_tag": "ABX9TyN+tZ++Kzb5LzKPOEcaKz7l",
      "include_colab_link": true
    },
    "kernelspec": {
      "name": "python3",
      "display_name": "Python 3"
    },
    "language_info": {
      "name": "python"
    }
  },
  "cells": [
    {
      "cell_type": "markdown",
      "metadata": {
        "id": "view-in-github",
        "colab_type": "text"
      },
      "source": [
        "<a href=\"https://colab.research.google.com/github/kimtaeil12/c/blob/main/Untitled0.ipynb\" target=\"_parent\"><img src=\"https://colab.research.google.com/assets/colab-badge.svg\" alt=\"Open In Colab\"/></a>"
      ]
    },
    {
      "cell_type": "markdown",
      "source": [
        "*2023-11-02 레모네이트 모델 실습"
      ],
      "metadata": {
        "id": "dlAYGJTWdGXe"
      }
    },
    {
      "cell_type": "markdown",
      "source": [
        "tip : crtl + enter : 셀 안에서 반복해서 실행\n",
        "shift + enter : 순차적으로 *실행*"
      ],
      "metadata": {
        "id": "JdJvaRqpdhOj"
      }
    },
    {
      "cell_type": "code",
      "source": [
        "# 데이터 불러오기\n",
        "import pandas as pd\n",
        "\n",
        "파일경로 = \"/content/lemonade (1).csv\"\n",
        "데이터 = pd.read_csv(\"/content/lemonade (1).csv\")"
      ],
      "metadata": {
        "id": "gcslUehrdtic"
      },
      "execution_count": null,
      "outputs": []
    }
  ]
}