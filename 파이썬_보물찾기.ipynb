{
  "nbformat": 4,
  "nbformat_minor": 0,
  "metadata": {
    "colab": {
      "provenance": [],
      "authorship_tag": "ABX9TyM5LuZCIVW/Gc4X0N5hf0XJ",
      "include_colab_link": true
    },
    "kernelspec": {
      "name": "python3",
      "display_name": "Python 3"
    },
    "language_info": {
      "name": "python"
    }
  },
  "cells": [
    {
      "cell_type": "markdown",
      "metadata": {
        "id": "view-in-github",
        "colab_type": "text"
      },
      "source": [
        "<a href=\"https://colab.research.google.com/github/kimtaeil12/c/blob/main/%ED%8C%8C%EC%9D%B4%EC%8D%AC_%EB%B3%B4%EB%AC%BC%EC%B0%BE%EA%B8%B0.ipynb\" target=\"_parent\"><img src=\"https://colab.research.google.com/assets/colab-badge.svg\" alt=\"Open In Colab\"/></a>"
      ]
    },
    {
      "cell_type": "code",
      "execution_count": 5,
      "metadata": {
        "colab": {
          "base_uri": "https://localhost:8080/"
        },
        "id": "EMRBvTff8VOI",
        "outputId": "b3076465-f482-4dd1-b284-f91cb5fb7783"
      },
      "outputs": [
        {
          "output_type": "stream",
          "name": "stdout",
          "text": [
            "보물섬에 오신것을 환영합니다!\n",
            "보물섬에서 보물을 찾아보세요\n",
            "당신은 갈림길에 있습니다. 오른쪽(r), 왼쪽(1)을 선택하세요: 1\n",
            "호수를 만났습니다. 기다릴 것인지(w), 또는 수영할 것인지(s) 선택하세요: w\n",
            "당신은 3개의 문앞에 도착했습니다. 빨간색(r), 노란색(y), 파란색(b) 어떤 색을 선택할까요?: y\n",
            "보석을 발견했습니다!, you win! 이름을 입력하세요!\n",
            "name:asd\n",
            "게임의 우승자는asd입니다!\n"
          ]
        }
      ],
      "source": [
        "print(\"보물섬에 오신것을 환영합니다!\")\n",
        "print(\"보물섬에서 보물을 찾아보세요\")\n",
        "\n",
        "choice1 = input(\"당신은 갈림길에 있습니다. 오른쪽(r), 왼쪽(1)을 선택하세요: \").lower()\n",
        "\n",
        "if choice1 == \"1\":\n",
        "  choice2 = input(\"호수를 만났습니다. 기다릴 것인지(w), 또는 수영할 것인지(s) 선택하세요: \").lower()\n",
        "  if choice2 == \"w\":\n",
        "    choice3 = input(\"당신은 3개의 문앞에 도착했습니다. 빨간색(r), 노란색(y), 파란색(b) 어떤 색을 선택할까요?: \").lower()\n",
        "    if choice3 == \"r\":\n",
        "      print(\"불구덩이에 빠졌습니다. game over\")\n",
        "    elif choice3 == \"y\":\n",
        "        print(\"보석을 발견했습니다!, you win! 이름을 입력하세요!\")\n",
        "        name = input(\"name:\")\n",
        "        print(\"게임의 우승자는\" + name + \"입니다!\")\n",
        "\n",
        "    elif choice3 == \"b\":\n",
        "        print(\"바다에 빠졌습니다. game ovwr\")\n",
        "    else:\n",
        "        print(\"game over\")\n",
        "  else:\n",
        "      print(\"game over\")\n",
        "else:\n",
        "    print(\"game over\")"
      ]
    }
  ]
}