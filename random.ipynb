{
  "nbformat": 4,
  "nbformat_minor": 0,
  "metadata": {
    "colab": {
      "provenance": [],
      "authorship_tag": "ABX9TyOWiOVRStYwQT5uegMS1ZN8",
      "include_colab_link": true
    },
    "kernelspec": {
      "name": "python3",
      "display_name": "Python 3"
    },
    "language_info": {
      "name": "python"
    }
  },
  "cells": [
    {
      "cell_type": "markdown",
      "metadata": {
        "id": "view-in-github",
        "colab_type": "text"
      },
      "source": [
        "<a href=\"https://colab.research.google.com/github/kimtaeil12/c/blob/main/random.ipynb\" target=\"_parent\"><img src=\"https://colab.research.google.com/assets/colab-badge.svg\" alt=\"Open In Colab\"/></a>"
      ]
    },
    {
      "cell_type": "code",
      "execution_count": 1,
      "metadata": {
        "id": "6Hqj0e2HWjYr"
      },
      "outputs": [],
      "source": [
        "import random"
      ]
    },
    {
      "cell_type": "code",
      "source": [
        "import random\n",
        "\n",
        "rock ='''\n",
        "---'   ____)\n",
        "      (_____)\n",
        "      (_____)\n",
        "      (____)\n",
        "---.__(___)\n",
        "'''\n",
        "paper = '''\n",
        "---'   ____)____\n",
        "          ______)\n",
        "          _______)\n",
        "         _______)\n",
        "---.__________)\n",
        "'''\n",
        "scissors = '''\n",
        "    _______\n",
        "---'   ____)____\n",
        "          ______)\n",
        "       __________)\n",
        "      (____)\n",
        "---.__(___)\n",
        "'''\n",
        "\n",
        "\n",
        "img_hand = [rock, paper, scissors]\n"
      ],
      "metadata": {
        "id": "xdN4HZARXOap"
      },
      "execution_count": 3,
      "outputs": []
    },
    {
      "cell_type": "code",
      "source": [
        "my_choice = int(input(\"무엇을 내겠습니다? 바위(0), 보(1), 가위(2)\"))\n",
        "if my_choice >= 3 or my_choice < 0:\n",
        "  print(\"잘못된 숫자를 입력했습니다\")\n",
        "  #아예 다른 숫자를 입력했을 경우\n",
        "else:\n",
        "  print(f\"나의 선택은: \")\n",
        "  print(img_hand[my_choice])\n",
        "\n",
        "computer_choice = random.randint(0,2)\n",
        "print(f\"컴퓨터의 선택은: \")\n",
        "print(img_hand[computer_choice])\n"
      ],
      "metadata": {
        "colab": {
          "base_uri": "https://localhost:8080/"
        },
        "id": "sEkq6Sg8X2Uz",
        "outputId": "f65e8552-87c3-4d74-f259-f9e97d3573ec"
      },
      "execution_count": 6,
      "outputs": [
        {
          "output_type": "stream",
          "name": "stdout",
          "text": [
            "무엇을 내겠습니다? 바위(0), 보(1), 가위(2)1\n",
            "나의 선택은: \n",
            "\n",
            "---'   ____)____\n",
            "          ______)\n",
            "          _______)\n",
            "         _______)\n",
            "---.__________)\n",
            "\n",
            "컴퓨터의 선택은: \n",
            "\n",
            "    _______\n",
            "---'   ____)____\n",
            "          ______)\n",
            "       __________)\n",
            "      (____)\n",
            "---.__(___)\n",
            "\n"
          ]
        }
      ]
    },
    {
      "cell_type": "code",
      "source": [
        "if computer_choice == 0 and my_choice == 2:\n",
        "  print(\"컴퓨터가 이겼다\")\n",
        "elif my_choice == 0 and computer_choice == 2:\n",
        "  print(\"내가 이겼다!\")\n",
        "elif computer_choice > my_choice:\n",
        "  print(\"컴퓨터가 이겼다\")\n",
        "elif my_choice == computer_choice:\n",
        "  print(\"비겼다!\")\n",
        "elif my_choice > computer_choice:\n",
        "  print(\"내가 이겼다!\")\n"
      ],
      "metadata": {
        "colab": {
          "base_uri": "https://localhost:8080/"
        },
        "id": "gS5xFxoiZNnQ",
        "outputId": "229e50de-5ec1-4d16-a2e5-0d21d1c8768e"
      },
      "execution_count": 7,
      "outputs": [
        {
          "output_type": "stream",
          "name": "stdout",
          "text": [
            "컴퓨터가 이겼다\n"
          ]
        }
      ]
    }
  ]
}